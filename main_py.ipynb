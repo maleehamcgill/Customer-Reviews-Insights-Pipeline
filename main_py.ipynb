{
  "nbformat": 4,
  "nbformat_minor": 0,
  "metadata": {
    "colab": {
      "provenance": [],
      "authorship_tag": "ABX9TyM7nIHHy4gx6QS/B2mvHUB+",
      "include_colab_link": true
    },
    "kernelspec": {
      "name": "python3",
      "display_name": "Python 3"
    },
    "language_info": {
      "name": "python"
    }
  },
  "cells": [
    {
      "cell_type": "markdown",
      "metadata": {
        "id": "view-in-github",
        "colab_type": "text"
      },
      "source": [
        "<a href=\"https://colab.research.google.com/github/maleehamcgill/Customer-Reviews-Insights-Pipeline/blob/app/main_py.ipynb\" target=\"_parent\"><img src=\"https://colab.research.google.com/assets/colab-badge.svg\" alt=\"Open In Colab\"/></a>"
      ]
    },
    {
      "cell_type": "code",
      "execution_count": null,
      "metadata": {
        "id": "dnIhDeOzmTcJ"
      },
      "outputs": [],
      "source": [
        "from fastapi import FastAPI, Depends\n",
        "from sqlalchemy.orm import Session\n",
        "from .database import engine, Base, get_db\n",
        "from .models import Review, ReviewAnalysis\n",
        "from sqlalchemy import func\n",
        "\n",
        "Base.metadata.create_all(bind=engine)\n",
        "\n",
        "app = FastAPI(title=\"Customer Review Insights API\")\n",
        "\n",
        "@app.get(\"/\")\n",
        "def root():\n",
        "    return {\"message\": \"API running\"}\n",
        "\n",
        "@app.get(\"/latest\")\n",
        "def get_latest_reviews(limit: int = 10, db: Session = Depends(get_db)):\n",
        "    reviews = db.query(Review).order_by(Review.review_date.desc()).limit(limit).all()\n",
        "    result = []\n",
        "    for review in reviews:\n",
        "        result.append({\n",
        "            \"review_text\": review.review_text,\n",
        "            \"sentiment\": review.analysis[0].sentiment if review.analysis else None,\n",
        "            \"topics\": review.analysis[0].topics if review.analysis else None\n",
        "        })\n",
        "    return result\n",
        "\n",
        "@app.get(\"/sentiment\")\n",
        "def get_sentiment_summary(db: Session = Depends(get_db)):\n",
        "    result = db.query(ReviewAnalysis.sentiment, func.count(ReviewAnalysis.id))\\\n",
        "        .group_by(ReviewAnalysis.sentiment).all()\n",
        "    return {sent: count for sent, count in result}\n",
        "\n",
        "@app.get(\"/topics\")\n",
        "def get_topics_summary(db: Session = Depends(get_db)):\n",
        "    topics = db.query(ReviewAnalysis.topics).all()\n",
        "    topic_count = {}\n",
        "    for row in topics:\n",
        "        if row.topics:\n",
        "            for topic in row.topics.split(\",\"):\n",
        "                topic = topic.strip().lower()\n",
        "                topic_count[topic] = topic_count.get(topic, 0) + 1\n",
        "    return topic_count\n"
      ]
    }
  ]
}
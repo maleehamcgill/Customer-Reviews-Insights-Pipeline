{
  "nbformat": 4,
  "nbformat_minor": 0,
  "metadata": {
    "colab": {
      "provenance": [],
      "authorship_tag": "ABX9TyMz0hVL7iz98k3f6VX5K5cD",
      "include_colab_link": true
    },
    "kernelspec": {
      "name": "python3",
      "display_name": "Python 3"
    },
    "language_info": {
      "name": "python"
    }
  },
  "cells": [
    {
      "cell_type": "markdown",
      "metadata": {
        "id": "view-in-github",
        "colab_type": "text"
      },
      "source": [
        "<a href=\"https://colab.research.google.com/github/maleehamcgill/Customer-Reviews-Insights-Pipeline/blob/app/models_py.ipynb\" target=\"_parent\"><img src=\"https://colab.research.google.com/assets/colab-badge.svg\" alt=\"Open In Colab\"/></a>"
      ]
    },
    {
      "cell_type": "code",
      "execution_count": null,
      "metadata": {
        "id": "5Upjhmhyl0ur"
      },
      "outputs": [],
      "source": [
        "from sqlalchemy import Column, Integer, String, Text, ForeignKey\n",
        "from sqlalchemy.orm import relationship\n",
        "from .database import Base\n",
        "\n",
        "class Review(Base):\n",
        "    __tablename__ = \"reviews\"\n",
        "    id = Column(Integer, primary_key=True, index=True)\n",
        "    source = Column(String, nullable=False)\n",
        "    product_id = Column(String, nullable=True)\n",
        "    review_text = Column(Text, nullable=False)\n",
        "    rating = Column(Integer, nullable=True)\n",
        "    review_date = Column(String, nullable=True)\n",
        "\n",
        "    analysis = relationship(\"ReviewAnalysis\", back_populates=\"review\")\n",
        "\n",
        "class ReviewAnalysis(Base):\n",
        "    __tablename__ = \"review_analysis\"\n",
        "    id = Column(Integer, primary_key=True, index=True)\n",
        "    review_id = Column(Integer, ForeignKey(\"reviews.id\"), nullable=False)\n",
        "    sentiment = Column(String, index=True)\n",
        "    topics = Column(Text, nullable=True)\n",
        "\n",
        "    review = relationship(\"Review\", back_populates=\"analysis\")\n"
      ]
    }
  ]
}
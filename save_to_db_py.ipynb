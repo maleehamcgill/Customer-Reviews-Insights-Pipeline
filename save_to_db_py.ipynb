{
  "nbformat": 4,
  "nbformat_minor": 0,
  "metadata": {
    "colab": {
      "provenance": [],
      "authorship_tag": "ABX9TyO8e1aqGec1kwaqC4lSU9i8",
      "include_colab_link": true
    },
    "kernelspec": {
      "name": "python3",
      "display_name": "Python 3"
    },
    "language_info": {
      "name": "python"
    }
  },
  "cells": [
    {
      "cell_type": "markdown",
      "metadata": {
        "id": "view-in-github",
        "colab_type": "text"
      },
      "source": [
        "<a href=\"https://colab.research.google.com/github/maleehamcgill/Customer-Reviews-Insights-Pipeline/blob/etl/save_to_db_py.ipynb\" target=\"_parent\"><img src=\"https://colab.research.google.com/assets/colab-badge.svg\" alt=\"Open In Colab\"/></a>"
      ]
    },
    {
      "cell_type": "code",
      "execution_count": null,
      "metadata": {
        "id": "2nHZ4nuwomdu"
      },
      "outputs": [],
      "source": [
        "from app.database import SessionLocal\n",
        "from app.models import Review, ReviewAnalysis\n",
        "from fetch_reviews import fetch_reviews\n",
        "from process_reviews import analyze_review\n",
        "\n",
        "def save():\n",
        "    db = SessionLocal()\n",
        "    reviews = fetch_reviews()\n",
        "    for r in reviews:\n",
        "        review = Review(\n",
        "            source=\"Amazon\",\n",
        "            product_id=\"EXAMPLE\",\n",
        "            review_text=r[\"text\"],\n",
        "            rating=int(float(r[\"rating\"].split()[0])),\n",
        "            review_date=r[\"date\"]\n",
        "        )\n",
        "        db.add(review)\n",
        "        db.commit()\n",
        "        db.refresh(review)\n",
        "\n",
        "        analysis = analyze_review(r[\"text\"])\n",
        "        sentiment, topics = analysis.split(\"\\n\")\n",
        "        sentiment = sentiment.split(\":\")[-1].strip()\n",
        "        topics = topics.split(\":\")[-1].strip()\n",
        "\n",
        "        review_analysis = ReviewAnalysis(\n",
        "            review_id=review.id,\n",
        "            sentiment=sentiment,\n",
        "            topics=topics\n",
        "        )\n",
        "        db.add(review_analysis)\n",
        "        db.commit()\n",
        "    db.close()\n",
        "\n",
        "if __name__ == \"__main__\":\n",
        "    save()\n"
      ]
    }
  ]
}
{
  "nbformat": 4,
  "nbformat_minor": 0,
  "metadata": {
    "colab": {
      "provenance": [],
      "authorship_tag": "ABX9TyPX+YxENLd9pEkAGsCSYS0C",
      "include_colab_link": true
    },
    "kernelspec": {
      "name": "python3",
      "display_name": "Python 3"
    },
    "language_info": {
      "name": "python"
    }
  },
  "cells": [
    {
      "cell_type": "markdown",
      "metadata": {
        "id": "view-in-github",
        "colab_type": "text"
      },
      "source": [
        "<a href=\"https://colab.research.google.com/github/maleehamcgill/Customer-Reviews-Insights-Pipeline/blob/etl/fetch_reviews_py.ipynb\" target=\"_parent\"><img src=\"https://colab.research.google.com/assets/colab-badge.svg\" alt=\"Open In Colab\"/></a>"
      ]
    },
    {
      "cell_type": "code",
      "execution_count": null,
      "metadata": {
        "id": "wMPa4HrPnWgg"
      },
      "outputs": [],
      "source": [
        "import requests\n",
        "from bs4 import BeautifulSoup\n",
        "\n",
        "def fetch_reviews():\n",
        "    url = \"https://www.amazon.com/product-reviews/EXAMPLE\"  # Replace with a real product URL\n",
        "    headers = {\"User-Agent\": \"Mozilla/5.0\"}\n",
        "    html = requests.get(url, headers=headers).text\n",
        "    soup = BeautifulSoup(html, \"lxml\")\n",
        "    blocks = soup.find_all(\"div\", {\"data-hook\": \"review\"})\n",
        "    reviews = []\n",
        "    for block in blocks:\n",
        "        text = block.find(\"span\", {\"data-hook\": \"review-body\"}).get_text(strip=True)\n",
        "        rating = block.find(\"i\", {\"data-hook\": \"review-star-rating\"}).get_text(strip=True)\n",
        "        date = block.find(\"span\", {\"data-hook\": \"review-date\"}).get_text(strip=True)\n",
        "        reviews.append({\"text\": text, \"rating\": rating, \"date\": date})\n",
        "    return reviews\n"
      ]
    }
  ]
}